{
  "nbformat": 4,
  "nbformat_minor": 0,
  "metadata": {
    "colab": {
      "name": "Untitled22.ipynb",
      "provenance": [],
      "authorship_tag": "ABX9TyNHgn614AId9fDTHlaUOd6K",
      "include_colab_link": true
    },
    "kernelspec": {
      "name": "python3",
      "display_name": "Python 3"
    },
    "language_info": {
      "name": "python"
    }
  },
  "cells": [
    {
      "cell_type": "markdown",
      "metadata": {
        "id": "view-in-github",
        "colab_type": "text"
      },
      "source": [
        "<a href=\"https://colab.research.google.com/github/IliaBelov/Prect/blob/main/Untitled23.ipynb\" target=\"_parent\"><img src=\"https://colab.research.google.com/assets/colab-badge.svg\" alt=\"Open In Colab\"/></a>"
      ]
    },
    {
      "cell_type": "code",
      "metadata": {
        "id": "rViuEhf9z6rU"
      },
      "source": [
        "from sympy import*\n",
        "x = Function(\"x\")\n",
        "y=Function(\"y\")\n",
        "t= symbols(\"t\")"
      ],
      "execution_count": 6,
      "outputs": []
    },
    {
      "cell_type": "code",
      "metadata": {
        "id": "YBI0VgUa40XK"
      },
      "source": [
        "eqs = [Eq(x(t).diff(t), -x(t)+2*y(t)), Eq(y(t).diff(t), -3*x(t)+ 4*y(t))]\n",
        "q,w = dsolve(eqs,ics ={x(0):0,y(0):1})"
      ],
      "execution_count": 9,
      "outputs": []
    },
    {
      "cell_type": "code",
      "metadata": {
        "colab": {
          "base_uri": "https://localhost:8080/",
          "height": 38
        },
        "id": "Ob78xJn35dZE",
        "outputId": "904217d6-9dc7-48dd-e2b5-9ad8423fbe90"
      },
      "source": [
        "display(q)"
      ],
      "execution_count": 10,
      "outputs": [
        {
          "output_type": "display_data",
          "data": {
            "text/latex": "$\\displaystyle x{\\left(t \\right)} = 2 e^{2 t} - 2 e^{t}$",
            "text/plain": [
              "Eq(x(t), 2*exp(2*t) - 2*exp(t))"
            ]
          },
          "metadata": {}
        }
      ]
    },
    {
      "cell_type": "code",
      "metadata": {
        "colab": {
          "base_uri": "https://localhost:8080/",
          "height": 38
        },
        "id": "FZhHbS3h5MzS",
        "outputId": "326d12f0-f6c2-4155-cb4e-eb1f7303b26c"
      },
      "source": [
        "display(w)"
      ],
      "execution_count": 11,
      "outputs": [
        {
          "output_type": "display_data",
          "data": {
            "text/latex": "$\\displaystyle y{\\left(t \\right)} = 3 e^{2 t} - 2 e^{t}$",
            "text/plain": [
              "Eq(y(t), 3*exp(2*t) - 2*exp(t))"
            ]
          },
          "metadata": {}
        }
      ]
    }
  ]
}