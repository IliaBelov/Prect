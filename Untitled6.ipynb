{
  "nbformat": 4,
  "nbformat_minor": 0,
  "metadata": {
    "colab": {
      "name": "Untitled6.ipynb",
      "provenance": [],
      "authorship_tag": "ABX9TyNscmPz8+66mOC8+KTnLzfi",
      "include_colab_link": true
    },
    "kernelspec": {
      "name": "python3",
      "display_name": "Python 3"
    },
    "language_info": {
      "name": "python"
    }
  },
  "cells": [
    {
      "cell_type": "markdown",
      "metadata": {
        "id": "view-in-github",
        "colab_type": "text"
      },
      "source": [
        "<a href=\"https://colab.research.google.com/github/IliaBelov/Prect/blob/main/Untitled6.ipynb\" target=\"_parent\"><img src=\"https://colab.research.google.com/assets/colab-badge.svg\" alt=\"Open In Colab\"/></a>"
      ]
    },
    {
      "cell_type": "code",
      "metadata": {
        "id": "I20XgRK2emJd"
      },
      "source": [
        "from sympy import * # пакет  символьных вычислений\n",
        "import numpy as np # пакет для работы с многомерными массивами\n",
        "t, g, k, v0, t1, t2, v, m = symbols(\"t g k v0 t1 t2 v m\")\n",
        "v = Function(\"v\")\n",
        "g = 1.6\n",
        "k = 0.01\n",
        "m =1\n",
        "v0 = 100\n",
        "\n",
        "\n"
      ],
      "execution_count": null,
      "outputs": []
    }
  ]
}