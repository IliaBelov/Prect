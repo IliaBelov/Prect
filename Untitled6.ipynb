{
  "nbformat": 4,
  "nbformat_minor": 0,
  "metadata": {
    "colab": {
      "name": "Untitled6.ipynb",
      "provenance": [],
      "include_colab_link": true
    },
    "kernelspec": {
      "name": "python3",
      "display_name": "Python 3"
    },
    "language_info": {
      "name": "python"
    }
  },
  "cells": [
    {
      "cell_type": "markdown",
      "metadata": {
        "id": "view-in-github",
        "colab_type": "text"
      },
      "source": [
        "<a href=\"https://colab.research.google.com/github/IliaBelov/Prect/blob/main/Untitled6.ipynb\" target=\"_parent\"><img src=\"https://colab.research.google.com/assets/colab-badge.svg\" alt=\"Open In Colab\"/></a>"
      ]
    },
    {
      "cell_type": "code",
      "metadata": {
        "id": "I20XgRK2emJd"
      },
      "source": [
        "from sympy import *\n"
      ],
      "execution_count": 51,
      "outputs": []
    },
    {
      "cell_type": "code",
      "metadata": {
        "id": "VA1hrNfAWcUw"
      },
      "source": [
        "t, g, m, k = symbols(\"t g m k\")\n",
        "v = Function(\"v\")\n",
        "h = Function(\"h\")"
      ],
      "execution_count": 52,
      "outputs": []
    },
    {
      "cell_type": "code",
      "metadata": {
        "id": "3nPq-xjHXLjn",
        "colab": {
          "base_uri": "https://localhost:8080/",
          "height": 52
        },
        "outputId": "87e1f3b6-1c99-492c-deba-772d27260f8c"
      },
      "source": [
        "de = Eq(diff(v(t), t), -m*g - k*v(t))\n",
        "de"
      ],
      "execution_count": 53,
      "outputs": [
        {
          "output_type": "execute_result",
          "data": {
            "text/latex": "$\\displaystyle \\frac{d}{d t} v{\\left(t \\right)} = - g m - k v{\\left(t \\right)}$",
            "text/plain": [
              "Eq(Derivative(v(t), t), -g*m - k*v(t))"
            ]
          },
          "metadata": {},
          "execution_count": 53
        }
      ]
    },
    {
      "cell_type": "code",
      "metadata": {
        "id": "tSADJTXtYQ-Q"
      },
      "source": [
        "sol1 = dsolve(de, v(t), ics={v(0): 100})"
      ],
      "execution_count": 54,
      "outputs": []
    },
    {
      "cell_type": "code",
      "metadata": {
        "id": "PsMJyV_cZYVn",
        "outputId": "b5cb6dea-7848-4244-c727-8034014e6baa",
        "colab": {
          "base_uri": "https://localhost:8080/",
          "height": 38
        }
      },
      "source": [
        "#m, g, k  = 1, 1.6, 0.01\n",
        "dsol2 = sol1.subs(g, 1.6).subs(m, 1).subs(k, 0.01) \n",
        "dsol2"
      ],
      "execution_count": 55,
      "outputs": [
        {
          "output_type": "execute_result",
          "data": {
            "text/latex": "$\\displaystyle v{\\left(t \\right)} = -160.0 + 260.0 e^{- 0.01 t}$",
            "text/plain": [
              "Eq(v(t), -160.0 + 260.0*exp(-0.01*t))"
            ]
          },
          "metadata": {},
          "execution_count": 55
        }
      ]
    },
    {
      "cell_type": "code",
      "metadata": {
        "id": "r3X3RGLrYv0Z",
        "outputId": "07339b15-4a8f-450e-a9d8-777cce5350d6",
        "colab": {
          "base_uri": "https://localhost:8080/",
          "height": 52
        }
      },
      "source": [
        "de2 = Eq(diff(h(t), t), -160 + 260*exp(-0.01*t))\n",
        "de2"
      ],
      "execution_count": 56,
      "outputs": [
        {
          "output_type": "execute_result",
          "data": {
            "text/latex": "$\\displaystyle \\frac{d}{d t} h{\\left(t \\right)} = -160 + 260 e^{- 0.01 t}$",
            "text/plain": [
              "Eq(Derivative(h(t), t), -160 + 260*exp(-0.01*t))"
            ]
          },
          "metadata": {},
          "execution_count": 56
        }
      ]
    },
    {
      "cell_type": "code",
      "metadata": {
        "id": "l_nE4TAYYvxu",
        "outputId": "b5273550-7fe3-47cc-e4d1-bfa5d10b5c63",
        "colab": {
          "base_uri": "https://localhost:8080/",
          "height": 38
        }
      },
      "source": [
        "sol2 = dsolve(de2, h(t), ics={h(0): 0})\n",
        "sol2"
      ],
      "execution_count": 57,
      "outputs": [
        {
          "output_type": "execute_result",
          "data": {
            "text/latex": "$\\displaystyle h{\\left(t \\right)} = - 160 t + 26000.0 - 26000.0 e^{- 0.01 t}$",
            "text/plain": [
              "Eq(h(t), -160*t + 26000.0 - 26000.0*exp(-0.01*t))"
            ]
          },
          "metadata": {},
          "execution_count": 57
        }
      ]
    },
    {
      "cell_type": "code",
      "metadata": {
        "id": "ZOoPsv8iYvvP",
        "outputId": "ffbfc7bc-7cc6-49d7-fbb6-df190960cb40",
        "colab": {
          "base_uri": "https://localhost:8080/"
        }
      },
      "source": [
        "t2 = solve(Eq(-160*t+26000-26000*exp(-0.01*t), 0), t)\n",
        "t2"
      ],
      "execution_count": 58,
      "outputs": [
        {
          "output_type": "execute_result",
          "data": {
            "text/plain": [
              "[0.0, 106.458434463298]"
            ]
          },
          "metadata": {},
          "execution_count": 58
        }
      ]
    },
    {
      "cell_type": "code",
      "metadata": {
        "id": "q9oVRCYWYvsz",
        "outputId": "aedfc9f6-f32b-45e8-fc23-07dc4afbf935",
        "colab": {
          "base_uri": "https://localhost:8080/"
        }
      },
      "source": [
        "t1 = solve(Eq(-160+260*exp(-0.01*t), 0), t)\n",
        "t1"
      ],
      "execution_count": 59,
      "outputs": [
        {
          "output_type": "execute_result",
          "data": {
            "text/plain": [
              "[48.5507815781701]"
            ]
          },
          "metadata": {},
          "execution_count": 59
        }
      ]
    },
    {
      "cell_type": "code",
      "metadata": {
        "id": "A4NLOzo8Yvpx",
        "outputId": "d8fe8e7c-1d05-4d6d-f02b-848721a6bcb9",
        "colab": {
          "base_uri": "https://localhost:8080/",
          "height": 38
        }
      },
      "source": [
        "hmax = sol2.subs(t, t1[0]) \n",
        "hmax"
      ],
      "execution_count": 60,
      "outputs": [
        {
          "output_type": "execute_result",
          "data": {
            "text/latex": "$\\displaystyle h{\\left(48.5507815781701 \\right)} = 2231.87494749279$",
            "text/plain": [
              "Eq(h(48.5507815781701), 2231.87494749279)"
            ]
          },
          "metadata": {},
          "execution_count": 60
        }
      ]
    },
    {
      "cell_type": "code",
      "metadata": {
        "id": "ysQ27-4tYvm2"
      },
      "source": [
        ""
      ],
      "execution_count": null,
      "outputs": []
    },
    {
      "cell_type": "code",
      "metadata": {
        "id": "3rSYzbihYvis"
      },
      "source": [
        ""
      ],
      "execution_count": null,
      "outputs": []
    }
  ]
}