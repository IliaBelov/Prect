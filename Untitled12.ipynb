{
  "nbformat": 4,
  "nbformat_minor": 0,
  "metadata": {
    "colab": {
      "name": "Untitled12.ipynb",
      "provenance": [],
      "authorship_tag": "ABX9TyMdTFkbrJFwMwXAXDzBl39Z",
      "include_colab_link": true
    },
    "kernelspec": {
      "name": "python3",
      "display_name": "Python 3"
    },
    "language_info": {
      "name": "python"
    }
  },
  "cells": [
    {
      "cell_type": "markdown",
      "metadata": {
        "id": "view-in-github",
        "colab_type": "text"
      },
      "source": [
        "<a href=\"https://colab.research.google.com/github/IliaBelov/Prect/blob/main/Untitled12.ipynb\" target=\"_parent\"><img src=\"https://colab.research.google.com/assets/colab-badge.svg\" alt=\"Open In Colab\"/></a>"
      ]
    },
    {
      "cell_type": "code",
      "metadata": {
        "id": "O_TJpC_GflfV"
      },
      "source": [
        "from sympy import *\n",
        "x = symbols(\"x\")\n",
        "y = Function(\"y\")"
      ],
      "execution_count": 2,
      "outputs": []
    },
    {
      "cell_type": "code",
      "metadata": {
        "colab": {
          "base_uri": "https://localhost:8080/",
          "height": 90
        },
        "id": "cKaleAsgj6-7",
        "outputId": "c9d33d04-d386-4e4f-e5d4-2fcacdd51131"
      },
      "source": [
        "de = Eq(diff(y(x),x),-y(x)-y(x)**2)\n",
        "sol = dsolve(de,y(x))\n",
        "display(de,sol)\n",
        "\n"
      ],
      "execution_count": 15,
      "outputs": [
        {
          "output_type": "display_data",
          "data": {
            "text/latex": "$\\displaystyle \\frac{d}{d x} y{\\left(x \\right)} = - y^{2}{\\left(x \\right)} - y{\\left(x \\right)}$",
            "text/plain": [
              "Eq(Derivative(y(x), x), -y(x)**2 - y(x))"
            ]
          },
          "metadata": {}
        },
        {
          "output_type": "display_data",
          "data": {
            "text/latex": "$\\displaystyle y{\\left(x \\right)} = - \\frac{C_{1}}{C_{1} - e^{x}}$",
            "text/plain": [
              "Eq(y(x), -C1/(C1 - exp(x)))"
            ]
          },
          "metadata": {}
        }
      ]
    },
    {
      "cell_type": "code",
      "metadata": {
        "colab": {
          "base_uri": "https://localhost:8080/"
        },
        "id": "LY1_4P7Mkcwi",
        "outputId": "41945bc8-df0e-498d-dab3-f45974927d66"
      },
      "source": [
        "classify_ode(de)"
      ],
      "execution_count": 16,
      "outputs": [
        {
          "output_type": "execute_result",
          "data": {
            "text/plain": [
              "('separable',\n",
              " '1st_exact',\n",
              " 'Bernoulli',\n",
              " '1st_power_series',\n",
              " 'lie_group',\n",
              " 'separable_Integral',\n",
              " '1st_exact_Integral',\n",
              " 'Bernoulli_Integral')"
            ]
          },
          "metadata": {},
          "execution_count": 16
        }
      ]
    },
    {
      "cell_type": "code",
      "metadata": {
        "id": "OxfYLTsQkfjz"
      },
      "source": [
        ""
      ],
      "execution_count": 12,
      "outputs": []
    }
  ]
}