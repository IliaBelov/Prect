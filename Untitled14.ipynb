{
  "nbformat": 4,
  "nbformat_minor": 0,
  "metadata": {
    "colab": {
      "name": "Untitled14.ipynb",
      "provenance": [],
      "authorship_tag": "ABX9TyOr6PvF1K3lJk11g1hMrtmb",
      "include_colab_link": true
    },
    "kernelspec": {
      "name": "python3",
      "display_name": "Python 3"
    },
    "language_info": {
      "name": "python"
    }
  },
  "cells": [
    {
      "cell_type": "markdown",
      "metadata": {
        "id": "view-in-github",
        "colab_type": "text"
      },
      "source": [
        "<a href=\"https://colab.research.google.com/github/IliaBelov/Prect/blob/main/Untitled14.ipynb\" target=\"_parent\"><img src=\"https://colab.research.google.com/assets/colab-badge.svg\" alt=\"Open In Colab\"/></a>"
      ]
    },
    {
      "cell_type": "code",
      "metadata": {
        "id": "ZBciMPefns4x"
      },
      "source": [
        "\n",
        "from sympy import *\n",
        "t,m,g = symbols(\"t m g\")\n",
        "s = Function(\"s\")"
      ],
      "execution_count": 10,
      "outputs": []
    },
    {
      "cell_type": "code",
      "metadata": {
        "colab": {
          "base_uri": "https://localhost:8080/",
          "height": 92
        },
        "id": "rFYCDU9fnw5j",
        "outputId": "1433b1fc-6e92-4e07-a7ec-0c3c32d2d409"
      },
      "source": [
        "de = Eq(m *diff(s(t),t,t),-m*g.subs(g,1.6)) \n",
        "sol = dsolve(de,s(t), ics = {s(0):0, diff(s(t),t).subs(t,0):100}) \n",
        "display(de,sol)\n"
      ],
      "execution_count": 35,
      "outputs": [
        {
          "output_type": "display_data",
          "data": {
            "text/latex": "$\\displaystyle m \\frac{d^{2}}{d t^{2}} s{\\left(t \\right)} = - 1.6 m$",
            "text/plain": [
              "Eq(m*Derivative(s(t), (t, 2)), -1.6*m)"
            ]
          },
          "metadata": {}
        },
        {
          "output_type": "display_data",
          "data": {
            "text/latex": "$\\displaystyle s{\\left(t \\right)} = - \\frac{4 t^{2}}{5} + 100 t$",
            "text/plain": [
              "Eq(s(t), -4*t**2/5 + 100*t)"
            ]
          },
          "metadata": {}
        }
      ]
    },
    {
      "cell_type": "code",
      "metadata": {
        "colab": {
          "base_uri": "https://localhost:8080/",
          "height": 296
        },
        "id": "Lkh3s2TWoxQ7",
        "outputId": "be2ccee1-c07b-4ccc-9091-49c0e032cb41"
      },
      "source": [
        "p = plot(sol.rhs,(t,0,125))"
      ],
      "execution_count": 36,
      "outputs": [
        {
          "output_type": "display_data",
          "data": {
            "image/png": "[encoded data removed]",
            "text/plain": [
              "<Figure size 432x288 with 1 Axes>"
            ]
          },
          "metadata": {
            "needs_background": "light"
          }
        }
      ]
    }
  ]
}