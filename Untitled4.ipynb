{
  "nbformat": 4,
  "nbformat_minor": 0,
  "metadata": {
    "colab": {
      "name": "Untitled4.ipynb",
      "provenance": [],
      "authorship_tag": "ABX9TyOCp6FbzoBaolrqz56lV+9m",
      "include_colab_link": true
    },
    "kernelspec": {
      "name": "python3",
      "display_name": "Python 3"
    },
    "language_info": {
      "name": "python"
    }
  },
  "cells": [
    {
      "cell_type": "markdown",
      "metadata": {
        "id": "view-in-github",
        "colab_type": "text"
      },
      "source": [
        "<a href=\"https://colab.research.google.com/github/IliaBelov/Prect/blob/main/Untitled4.ipynb\" target=\"_parent\"><img src=\"https://colab.research.google.com/assets/colab-badge.svg\" alt=\"Open In Colab\"/></a>"
      ]
    },
    {
      "cell_type": "code",
      "metadata": {
        "id": "CyGgb0fbSSLu"
      },
      "source": [
        "from sympy import * # пакет  символьных вычислений\n",
        "import numpy as np # пакет для работы с многомерными массивами"
      ],
      "execution_count": 1,
      "outputs": []
    },
    {
      "cell_type": "code",
      "metadata": {
        "id": "X83YWcI4STv_"
      },
      "source": [
        "t, g, a, v0, t1, h, h0, v = symbols(\"t g a v0 t1 h h0 v \")\n",
        "v = Function(\"v\")"
      ],
      "execution_count": 2,
      "outputs": []
    },
    {
      "cell_type": "code",
      "metadata": {
        "id": "XRLNibgHSVJm"
      },
      "source": [
        "\n",
        "h0 = 0\n",
        "v0 = 100\n",
        "g = 1.6"
      ],
      "execution_count": 3,
      "outputs": []
    },
    {
      "cell_type": "code",
      "metadata": {
        "colab": {
          "base_uri": "https://localhost:8080/"
        },
        "id": "0WZxRH4iSWj-",
        "outputId": "d5903265-4d02-40eb-d668-dca29f3d456d"
      },
      "source": [
        "V = -g\n",
        "v = integrate(V,t) + v0\n",
        "h = integrate(v,t) + h0\n",
        "v,h\n"
      ],
      "execution_count": 11,
      "outputs": [
        {
          "output_type": "execute_result",
          "data": {
            "text/plain": [
              "(100 - 1.6*t, -0.8*t**2 + 100.0*t)"
            ]
          },
          "metadata": {},
          "execution_count": 11
        }
      ]
    },
    {
      "cell_type": "code",
      "metadata": {
        "colab": {
          "base_uri": "https://localhost:8080/",
          "height": 38
        },
        "id": "DdD5wa9vSYAH",
        "outputId": "1cef433f-989e-4241-917d-3095426c93e1"
      },
      "source": [
        "h = integrate(v,t) + h0\n",
        "h"
      ],
      "execution_count": 7,
      "outputs": [
        {
          "output_type": "execute_result",
          "data": {
            "text/latex": "$\\displaystyle - 0.8 t^{2} + 100.0 t$",
            "text/plain": [
              "-0.8*t**2 + 100.0*t"
            ]
          },
          "metadata": {},
          "execution_count": 7
        }
      ]
    },
    {
      "cell_type": "code",
      "metadata": {
        "id": "hgxxtxSBI_tN",
        "outputId": "939ddf8e-bdbc-4425-e1b6-52eecb63c057",
        "colab": {
          "base_uri": "https://localhost:8080/",
          "height": 37
        }
      },
      "source": [
        "eq = Eq(v,0)\n",
        "sol = solve (eq,t)[0]\n",
        "sol\n"
      ],
      "execution_count": 24,
      "outputs": [
        {
          "output_type": "execute_result",
          "data": {
            "text/latex": "$\\displaystyle 62.5$",
            "text/plain": [
              "62.5000000000000"
            ]
          },
          "metadata": {},
          "execution_count": 24
        }
      ]
    },
    {
      "cell_type": "code",
      "metadata": {
        "id": "taMIZtOaInZW",
        "outputId": "564e82fb-391e-4ea4-9ff0-8d7ac5ec4506",
        "colab": {
          "base_uri": "https://localhost:8080/",
          "height": 37
        }
      },
      "source": [
        "eq1 = Eq(h,0)\n",
        "sol1 = solve(eq1,t)[1]\n",
        "sol1"
      ],
      "execution_count": 18,
      "outputs": [
        {
          "output_type": "execute_result",
          "data": {
            "text/latex": "$\\displaystyle 125.0$",
            "text/plain": [
              "125.000000000000"
            ]
          },
          "metadata": {},
          "execution_count": 18
        }
      ]
    },
    {
      "cell_type": "code",
      "metadata": {
        "colab": {
          "base_uri": "https://localhost:8080/",
          "height": 297
        },
        "id": "Cev3bYzxSbQm",
        "outputId": "5e8b763b-1cf9-4a55-8f7d-db7c3f4b0ae0"
      },
      "source": [
        "p = plot(v,(t, -0, sol))"
      ],
      "execution_count": 20,
      "outputs": [
        {
          "output_type": "display_data",
          "data": {
            "image/png": "[encoded data removed]",
            "text/plain": [
              "<Figure size 432x288 with 1 Axes>"
            ]
          },
          "metadata": {
            "needs_background": "light"
          }
        }
      ]
    },
    {
      "cell_type": "code",
      "metadata": {
        "id": "eYhNBV4AiGJO",
        "colab": {
          "base_uri": "https://localhost:8080/",
          "height": 296
        },
        "outputId": "1ddb9dd0-c486-423f-bde1-fce5d268cef5"
      },
      "source": [
        "d = plot(h,(t, 0, sol1))"
      ],
      "execution_count": 19,
      "outputs": [
        {
          "output_type": "display_data",
          "data": {
            "image/png": "[encoded data removed]",
            "text/plain": [
              "<Figure size 432x288 with 1 Axes>"
            ]
          },
          "metadata": {
            "needs_background": "light"
          }
        }
      ]
    }
  ]
}