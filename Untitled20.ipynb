{
  "nbformat": 4,
  "nbformat_minor": 0,
  "metadata": {
    "colab": {
      "name": "Untitled16.ipynb",
      "provenance": [],
      "authorship_tag": "ABX9TyPhs5/fMAWglh+B1Sm2bi/+",
      "include_colab_link": true
    },
    "kernelspec": {
      "name": "python3",
      "display_name": "Python 3"
    },
    "language_info": {
      "name": "python"
    }
  },
  "cells": [
    {
      "cell_type": "markdown",
      "metadata": {
        "id": "view-in-github",
        "colab_type": "text"
      },
      "source": [
        "<a href=\"https://colab.research.google.com/github/IliaBelov/Prect/blob/main/Untitled20.ipynb\" target=\"_parent\"><img src=\"https://colab.research.google.com/assets/colab-badge.svg\" alt=\"Open In Colab\"/></a>"
      ]
    },
    {
      "cell_type": "code",
      "metadata": {
        "id": "6xP_uE0QscEr"
      },
      "source": [
        "from sympy import*\n",
        "t = symbols(\"t\")\n",
        "v = Function(\"v\")\n",
        "h = Function(\"h\")\n",
        "m = 1\n",
        "k = 0.01\n",
        "g = 1.6\n",
        "h0 = 0\n",
        "v0 = 100\n",
        "g = 1.6"
      ],
      "execution_count": 36,
      "outputs": []
    },
    {
      "cell_type": "code",
      "metadata": {
        "colab": {
          "base_uri": "https://localhost:8080/",
          "height": 52
        },
        "id": "y4RMIpVpubli",
        "outputId": "13329f86-47db-400e-8c51-dbad9f43ee3c"
      },
      "source": [
        "dv = Eq(m*diff(v(t),t),-m*g-k*v(t))\n",
        "dv\n"
      ],
      "execution_count": 2,
      "outputs": [
        {
          "output_type": "execute_result",
          "data": {
            "text/latex": "$\\displaystyle \\frac{d}{d t} v{\\left(t \\right)} = - 0.01 v{\\left(t \\right)} - 1.6$",
            "text/plain": [
              "Eq(Derivative(v(t), t), -0.01*v(t) - 1.6)"
            ]
          },
          "metadata": {},
          "execution_count": 2
        }
      ]
    },
    {
      "cell_type": "code",
      "metadata": {
        "colab": {
          "base_uri": "https://localhost:8080/",
          "height": 38
        },
        "id": "NT9OxoqgwUuS",
        "outputId": "12e102a7-5fcb-4a20-8226-3137205a8152"
      },
      "source": [
        "vt =  dsolve(dv,v(t), ics={v(0):100})\n",
        "vt\n",
        "\n"
      ],
      "execution_count": 39,
      "outputs": [
        {
          "output_type": "execute_result",
          "data": {
            "text/latex": "$\\displaystyle v{\\left(t \\right)} = -160.0 + 260.0 e^{- 0.01 t}$",
            "text/plain": [
              "Eq(v(t), -160.0 + 260.0*exp(-0.01*t))"
            ]
          },
          "metadata": {},
          "execution_count": 39
        }
      ]
    },
    {
      "cell_type": "code",
      "metadata": {
        "colab": {
          "base_uri": "https://localhost:8080/",
          "height": 52
        },
        "id": "l-8dTrSIvWLD",
        "outputId": "89c8e80a-c40c-4ace-c62f-9b9e9f27f0d3"
      },
      "source": [
        "dh = Eq(m*diff(h(t),t), -160+260*exp(-0.01*t))\n",
        "dh"
      ],
      "execution_count": 54,
      "outputs": [
        {
          "output_type": "execute_result",
          "data": {
            "text/latex": "$\\displaystyle \\frac{d}{d t} h{\\left(t \\right)} = -160 + 260 e^{- 0.01 t}$",
            "text/plain": [
              "Eq(Derivative(h(t), t), -160 + 260*exp(-0.01*t))"
            ]
          },
          "metadata": {},
          "execution_count": 54
        }
      ]
    },
    {
      "cell_type": "code",
      "metadata": {
        "colab": {
          "base_uri": "https://localhost:8080/",
          "height": 38
        },
        "id": "-w6mkUpEJ7dq",
        "outputId": "a64cfc92-619c-4855-db35-35649ef23e42"
      },
      "source": [
        "ht = dsolve(dh, h(t), ics={h(0): 0})\n",
        "ht"
      ],
      "execution_count": 61,
      "outputs": [
        {
          "output_type": "execute_result",
          "data": {
            "text/latex": "$\\displaystyle h{\\left(t \\right)} = - 160 t + 26000.0 - 26000.0 e^{- 0.01 t}$",
            "text/plain": [
              "Eq(h(t), -160*t + 26000.0 - 26000.0*exp(-0.01*t))"
            ]
          },
          "metadata": {},
          "execution_count": 61
        }
      ]
    },
    {
      "cell_type": "code",
      "metadata": {
        "colab": {
          "base_uri": "https://localhost:8080/"
        },
        "id": "EXSupj2fDfoy",
        "outputId": "e9c19210-aec5-498c-bf46-2714bdd28784"
      },
      "source": [
        "tmax = solve(Eq(-160.0+260*exp(-0.01*t), 0), t)\n",
        "tmax"
      ],
      "execution_count": 62,
      "outputs": [
        {
          "output_type": "execute_result",
          "data": {
            "text/plain": [
              "[48.5507815781701]"
            ]
          },
          "metadata": {},
          "execution_count": 62
        }
      ]
    },
    {
      "cell_type": "code",
      "metadata": {
        "colab": {
          "base_uri": "https://localhost:8080/",
          "height": 38
        },
        "id": "k1LRq2kPHpyJ",
        "outputId": "92d4c6c6-0f7a-401a-e8d3-8af96aa29837"
      },
      "source": [
        "hmax = ht.subs(t,tmax[0])\n",
        "hmax"
      ],
      "execution_count": 64,
      "outputs": [
        {
          "output_type": "execute_result",
          "data": {
            "text/latex": "$\\displaystyle h{\\left(48.5507815781701 \\right)} = 2231.87494749279$",
            "text/plain": [
              "Eq(h(48.5507815781701), 2231.87494749279)"
            ]
          },
          "metadata": {},
          "execution_count": 64
        }
      ]
    },
    {
      "cell_type": "code",
      "metadata": {
        "id": "7OwUXTc5KqVD"
      },
      "source": [
        "tback = "
      ],
      "execution_count": null,
      "outputs": []
    },
    {
      "cell_type": "code",
      "metadata": {
        "colab": {
          "base_uri": "https://localhost:8080/",
          "height": 297
        },
        "id": "zVdjdBrPvorJ",
        "outputId": "ecc997aa-aa88-4fe5-c852-55706ab417f8"
      },
      "source": [
        "pt = plot(s.rhs, (t, 0,80))"
      ],
      "execution_count": 8,
      "outputs": [
        {
          "output_type": "display_data",
          "data": {
            "image/png": "[encoded data removed]",
            "text/plain": [
              "<Figure size 432x288 with 1 Axes>"
            ]
          },
          "metadata": {
            "needs_background": "light"
          }
        }
      ]
    }
  ]
}