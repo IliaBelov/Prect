{
  "nbformat": 4,
  "nbformat_minor": 0,
  "metadata": {
    "colab": {
      "name": "Untitled16.ipynb",
      "provenance": [],
      "authorship_tag": "ABX9TyOtrBoeg/ZBXIdi7NGUFTrH",
      "include_colab_link": true
    },
    "kernelspec": {
      "name": "python3",
      "display_name": "Python 3"
    },
    "language_info": {
      "name": "python"
    }
  },
  "cells": [
    {
      "cell_type": "markdown",
      "metadata": {
        "id": "view-in-github",
        "colab_type": "text"
      },
      "source": [
        "<a href=\"https://colab.research.google.com/github/IliaBelov/Prect/blob/main/Untitled20.ipynb\" target=\"_parent\"><img src=\"https://colab.research.google.com/assets/colab-badge.svg\" alt=\"Open In Colab\"/></a>"
      ]
    },
    {
      "cell_type": "code",
      "metadata": {
        "id": "6xP_uE0QscEr"
      },
      "source": [
        "from sympy import*\n",
        "t = symbols(\"t\")\n",
        "v = Function(\"v\")\n",
        "h = Function(\"h\")\n",
        "m = 1\n",
        "k = 0.01\n",
        "g = 1.6\n",
        "h0 = 0\n",
        "v0 = 100\n",
        "g = 1.6"
      ],
      "execution_count": 6,
      "outputs": []
    },
    {
      "cell_type": "code",
      "metadata": {
        "colab": {
          "base_uri": "https://localhost:8080/",
          "height": 52
        },
        "id": "y4RMIpVpubli",
        "outputId": "bd149668-e286-442b-9eaa-82eb658d0216"
      },
      "source": [
        "dv = Eq(m*diff(v(t),t),-m*g-k*v(t))\n",
        "dv\n"
      ],
      "execution_count": 7,
      "outputs": [
        {
          "output_type": "execute_result",
          "data": {
            "text/latex": "$\\displaystyle \\frac{d}{d t} v{\\left(t \\right)} = - 0.01 v{\\left(t \\right)} - 1.6$",
            "text/plain": [
              "Eq(Derivative(v(t), t), -0.01*v(t) - 1.6)"
            ]
          },
          "metadata": {},
          "execution_count": 7
        }
      ]
    },
    {
      "cell_type": "code",
      "metadata": {
        "colab": {
          "base_uri": "https://localhost:8080/",
          "height": 38
        },
        "id": "NT9OxoqgwUuS",
        "outputId": "f7e01ea8-3a3c-410f-bb7c-c5d46c0f556b"
      },
      "source": [
        "vt =  dsolve(dv,v(t), ics={v(0):100})\n",
        "vt\n",
        "\n"
      ],
      "execution_count": 8,
      "outputs": [
        {
          "output_type": "execute_result",
          "data": {
            "text/latex": "$\\displaystyle v{\\left(t \\right)} = -160.0 + 260.0 e^{- 0.01 t}$",
            "text/plain": [
              "Eq(v(t), -160.0 + 260.0*exp(-0.01*t))"
            ]
          },
          "metadata": {},
          "execution_count": 8
        }
      ]
    },
    {
      "cell_type": "code",
      "metadata": {
        "colab": {
          "base_uri": "https://localhost:8080/",
          "height": 52
        },
        "id": "l-8dTrSIvWLD",
        "outputId": "2fbfcf5b-82f1-4fbc-8062-83d2adf72747"
      },
      "source": [
        "dh = Eq(m*diff(h(t),t), -160+260*exp(-0.01*t))\n",
        "dh"
      ],
      "execution_count": 9,
      "outputs": [
        {
          "output_type": "execute_result",
          "data": {
            "text/latex": "$\\displaystyle \\frac{d}{d t} h{\\left(t \\right)} = -160 + 260 e^{- 0.01 t}$",
            "text/plain": [
              "Eq(Derivative(h(t), t), -160 + 260*exp(-0.01*t))"
            ]
          },
          "metadata": {},
          "execution_count": 9
        }
      ]
    },
    {
      "cell_type": "code",
      "metadata": {
        "colab": {
          "base_uri": "https://localhost:8080/",
          "height": 38
        },
        "id": "-w6mkUpEJ7dq",
        "outputId": "9be326f7-f488-4345-eb9f-756e3fe900ea"
      },
      "source": [
        "ht = dsolve(dh, h(t), ics={h(0): 0})\n",
        "ht"
      ],
      "execution_count": 10,
      "outputs": [
        {
          "output_type": "execute_result",
          "data": {
            "text/latex": "$\\displaystyle h{\\left(t \\right)} = - 160 t + 26000.0 - 26000.0 e^{- 0.01 t}$",
            "text/plain": [
              "Eq(h(t), -160*t + 26000.0 - 26000.0*exp(-0.01*t))"
            ]
          },
          "metadata": {},
          "execution_count": 10
        }
      ]
    },
    {
      "cell_type": "code",
      "metadata": {
        "colab": {
          "base_uri": "https://localhost:8080/"
        },
        "id": "EXSupj2fDfoy",
        "outputId": "8e812410-5cd7-4adc-e585-12ef4faa6cb0"
      },
      "source": [
        "tmax = solve(Eq(-160.0+260*exp(-0.01*t), 0), t)\n",
        "tmax"
      ],
      "execution_count": 11,
      "outputs": [
        {
          "output_type": "execute_result",
          "data": {
            "text/plain": [
              "[48.5507815781701]"
            ]
          },
          "metadata": {},
          "execution_count": 11
        }
      ]
    },
    {
      "cell_type": "code",
      "metadata": {
        "colab": {
          "base_uri": "https://localhost:8080/",
          "height": 38
        },
        "id": "k1LRq2kPHpyJ",
        "outputId": "53f4808c-d346-4e66-a17f-8266ecd022b0"
      },
      "source": [
        "hmax = ht.subs(t,tmax[0])\n",
        "hmax"
      ],
      "execution_count": 12,
      "outputs": [
        {
          "output_type": "execute_result",
          "data": {
            "text/latex": "$\\displaystyle h{\\left(48.5507815781701 \\right)} = 2231.87494749279$",
            "text/plain": [
              "Eq(h(48.5507815781701), 2231.87494749279)"
            ]
          },
          "metadata": {},
          "execution_count": 12
        }
      ]
    },
    {
      "cell_type": "code",
      "metadata": {
        "id": "7OwUXTc5KqVD",
        "outputId": "6b95a6d3-2b4b-41f2-b8e6-1af004aa3bf5",
        "colab": {
          "base_uri": "https://localhost:8080/",
          "height": 37
        }
      },
      "source": [
        "tback = solve(Eq(ht.rhs, 0))[1]\n",
        "tback"
      ],
      "execution_count": 14,
      "outputs": [
        {
          "output_type": "execute_result",
          "data": {
            "text/latex": "$\\displaystyle 106.458434463298$",
            "text/plain": [
              "106.458434463298"
            ]
          },
          "metadata": {},
          "execution_count": 14
        }
      ]
    },
    {
      "cell_type": "code",
      "metadata": {
        "colab": {
          "base_uri": "https://localhost:8080/",
          "height": 296
        },
        "id": "zVdjdBrPvorJ",
        "outputId": "678da93d-12b4-4a15-dc68-0398618b492c"
      },
      "source": [
        "pt = plot(ht.rhs, (t, 0,tback))"
      ],
      "execution_count": 19,
      "outputs": [
        {
          "output_type": "display_data",
          "data": {
            "image/png": "[encoded data removed]",
            "text/plain": [
              "<Figure size 432x288 with 1 Axes>"
            ]
          },
          "metadata": {
            "needs_background": "light"
          }
        }
      ]
    },
    {
      "cell_type": "code",
      "metadata": {
        "id": "pNCFcZSdhjpH",
        "outputId": "2cdb735e-398a-4c92-9d55-c29e528dded9",
        "colab": {
          "base_uri": "https://localhost:8080/",
          "height": 296
        }
      },
      "source": [
        "pt = plot(vt.rhs, (t, 0,50))"
      ],
      "execution_count": 23,
      "outputs": [
        {
          "output_type": "display_data",
          "data": {
            "image/png": "[encoded data removed]",
            "text/plain": [
              "<Figure size 432x288 with 1 Axes>"
            ]
          },
          "metadata": {
            "needs_background": "light"
          }
        }
      ]
    },
    {
      "cell_type": "code",
      "metadata": {
        "id": "8aflR2w7h0wh"
      },
      "source": [
        ""
      ],
      "execution_count": null,
      "outputs": []
    },
    {
      "cell_type": "code",
      "metadata": {
        "id": "xILOldE4h5b_"
      },
      "source": [
        ""
      ],
      "execution_count": null,
      "outputs": []
    }
  ]
}