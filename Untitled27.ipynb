{
  "nbformat": 4,
  "nbformat_minor": 0,
  "metadata": {
    "colab": {
      "name": "Untitled25.ipynb",
      "provenance": [],
      "authorship_tag": "ABX9TyMYEWYopvDzLkwxYnRK65Pt",
      "include_colab_link": true
    },
    "kernelspec": {
      "name": "python3",
      "display_name": "Python 3"
    },
    "language_info": {
      "name": "python"
    }
  },
  "cells": [
    {
      "cell_type": "markdown",
      "metadata": {
        "id": "view-in-github",
        "colab_type": "text"
      },
      "source": [
        "<a href=\"https://colab.research.google.com/github/IliaBelov/Prect/blob/main/Untitled27.ipynb\" target=\"_parent\"><img src=\"https://colab.research.google.com/assets/colab-badge.svg\" alt=\"Open In Colab\"/></a>"
      ]
    },
    {
      "cell_type": "code",
      "metadata": {
        "id": "ZvnX17ckl-nQ"
      },
      "source": [
        "from sympy import *\n",
        "t= symbols(\"t\")\n",
        "x= Function(\"x\")\n",
        "\n",
        "y= Function(\"y\")"
      ],
      "execution_count": 1,
      "outputs": []
    },
    {
      "cell_type": "code",
      "metadata": {
        "colab": {
          "base_uri": "https://localhost:8080/",
          "height": 91
        },
        "id": "cHddI1UDxdkv",
        "outputId": "3aa7d1c9-398b-4dab-dc63-b25646244837"
      },
      "source": [
        "(v1,v2) = dsolve([Eq(diff(x(t),t),\n",
        "                     7*x(t)+6*y(t)+1+4*t),\n",
        "                  Eq(diff(y(t),t),\n",
        "                     3*x(t)+4*y(t) + 3*t**2)])\n",
        "\n",
        "display(v1,v2)          "
      ],
      "execution_count": 7,
      "outputs": [
        {
          "output_type": "display_data",
          "data": {
            "text/latex": "$\\displaystyle x{\\left(t \\right)} = - C_{1} e^{t} + 2 C_{2} e^{10 t} + \\frac{9 t^{2}}{5} + \\frac{59 t}{25} + \\frac{559}{250}$",
            "text/plain": [
              "Eq(x(t), -C1*exp(t) + 2*C2*exp(10*t) + 9*t**2/5 + 59*t/25 + 559/250)"
            ]
          },
          "metadata": {}
        },
        {
          "output_type": "display_data",
          "data": {
            "text/latex": "$\\displaystyle y{\\left(t \\right)} = C_{1} e^{t} + C_{2} e^{10 t} - \\frac{21 t^{2}}{10} - \\frac{141 t}{50} - \\frac{1191}{500}$",
            "text/plain": [
              "Eq(y(t), C1*exp(t) + C2*exp(10*t) - 21*t**2/10 - 141*t/50 - 1191/500)"
            ]
          },
          "metadata": {}
        }
      ]
    }
  ]
}