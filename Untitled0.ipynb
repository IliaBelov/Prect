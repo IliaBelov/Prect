{
  "nbformat": 4,
  "nbformat_minor": 0,
  "metadata": {
    "colab": {
      "name": "Untitled0.ipynb",
      "provenance": [],
      "authorship_tag": "ABX9TyNg/KkV81yVMW9GzWwfrOjA",
      "include_colab_link": true
    },
    "kernelspec": {
      "name": "python3",
      "display_name": "Python 3"
    },
    "language_info": {
      "name": "python"
    }
  },
  "cells": [
    {
      "cell_type": "markdown",
      "metadata": {
        "id": "view-in-github",
        "colab_type": "text"
      },
      "source": [
        "<a href=\"https://colab.research.google.com/github/IliaBelov/Prect/blob/main/Untitled0.ipynb\" target=\"_parent\"><img src=\"https://colab.research.google.com/assets/colab-badge.svg\" alt=\"Open In Colab\"/></a>"
      ]
    },
    {
      "cell_type": "code",
      "metadata": {
        "id": "XHxjvI_XTZlV"
      },
      "source": [
        "from sympy import * # пакет  символьных вычислений\n",
        "import numpy as np # пакет для работы с многомерными массивами\n",
        "x = symbols(\"x\")\n",
        "y = Function (\"y\")\n",
        "de = Eq(diff(y(x),x), - 4*y(x))\n",
        "\n"
      ],
      "execution_count": 3,
      "outputs": []
    },
    {
      "cell_type": "code",
      "metadata": {
        "colab": {
          "base_uri": "https://localhost:8080/",
          "height": 52
        },
        "id": "zRJersvSTpJY",
        "outputId": "9681ca81-f50b-4b07-8922-150f106665dc"
      },
      "source": [
        "de"
      ],
      "execution_count": 4,
      "outputs": [
        {
          "output_type": "execute_result",
          "data": {
            "text/latex": "$\\displaystyle \\frac{d}{d x} y{\\left(x \\right)} = - 4 y{\\left(x \\right)}$",
            "text/plain": [
              "Eq(Derivative(y(x), x), -4*y(x))"
            ]
          },
          "metadata": {},
          "execution_count": 4
        }
      ]
    },
    {
      "cell_type": "code",
      "metadata": {
        "colab": {
          "base_uri": "https://localhost:8080/",
          "height": 38
        },
        "id": "ClSVJg70TtaD",
        "outputId": "4d6f4543-78c1-41d1-9acb-9ff812811b05"
      },
      "source": [
        "dsolve(de,y(x))"
      ],
      "execution_count": 6,
      "outputs": [
        {
          "output_type": "execute_result",
          "data": {
            "text/latex": "$\\displaystyle y{\\left(x \\right)} = C_{1} e^{- 4 x}$",
            "text/plain": [
              "Eq(y(x), C1*exp(-4*x))"
            ]
          },
          "metadata": {},
          "execution_count": 6
        }
      ]
    },
    {
      "cell_type": "code",
      "metadata": {
        "colab": {
          "base_uri": "https://localhost:8080/",
          "height": 38
        },
        "id": "qPSREDw4T11k",
        "outputId": "5e655fc1-913b-48a3-d375-c9c4faae5ae5"
      },
      "source": [
        "dsolve(de, y(x), ics = {y(0): 5})"
      ],
      "execution_count": 7,
      "outputs": [
        {
          "output_type": "execute_result",
          "data": {
            "text/latex": "$\\displaystyle y{\\left(x \\right)} = 5 e^{- 4 x}$",
            "text/plain": [
              "Eq(y(x), 5*exp(-4*x))"
            ]
          },
          "metadata": {},
          "execution_count": 7
        }
      ]
    }
  ]
}