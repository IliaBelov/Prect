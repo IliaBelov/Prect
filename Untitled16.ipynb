{
  "nbformat": 4,
  "nbformat_minor": 0,
  "metadata": {
    "colab": {
      "name": "Untitled16.ipynb",
      "provenance": [],
      "authorship_tag": "ABX9TyOS7xsnJjPCm0eq8jS11kEC",
      "include_colab_link": true
    },
    "kernelspec": {
      "name": "python3",
      "display_name": "Python 3"
    },
    "language_info": {
      "name": "python"
    }
  },
  "cells": [
    {
      "cell_type": "markdown",
      "metadata": {
        "id": "view-in-github",
        "colab_type": "text"
      },
      "source": [
        "<a href=\"https://colab.research.google.com/github/IliaBelov/Prect/blob/main/Untitled16.ipynb\" target=\"_parent\"><img src=\"https://colab.research.google.com/assets/colab-badge.svg\" alt=\"Open In Colab\"/></a>"
      ]
    },
    {
      "cell_type": "code",
      "metadata": {
        "id": "6xP_uE0QscEr"
      },
      "source": [
        "from sympy import*\n",
        "t = symbols(\"t\")\n",
        "v = Function(\"v\")\n",
        "h = Function(\"h\")\n",
        "m = 1\n",
        "k = 0.01\n",
        "g = 1.6\n",
        "h0 = 0\n",
        "v0 = 100\n",
        "g = 1.6"
      ],
      "execution_count": 56,
      "outputs": []
    },
    {
      "cell_type": "code",
      "metadata": {
        "colab": {
          "base_uri": "https://localhost:8080/",
          "height": 52
        },
        "id": "y4RMIpVpubli",
        "outputId": "9c5ac735-757d-403a-f7cf-2a5f7fe6abbc"
      },
      "source": [
        "dv = Eq(m*diff(v(t),t),-m*g-k*v(t))\n",
        "dv\n"
      ],
      "execution_count": 58,
      "outputs": [
        {
          "output_type": "execute_result",
          "data": {
            "text/latex": "$\\displaystyle \\frac{d}{d t} v{\\left(t \\right)} = - 0.01 v{\\left(t \\right)} - 1.6$",
            "text/plain": [
              "Eq(Derivative(v(t), t), -0.01*v(t) - 1.6)"
            ]
          },
          "metadata": {},
          "execution_count": 58
        }
      ]
    },
    {
      "cell_type": "code",
      "metadata": {
        "colab": {
          "base_uri": "https://localhost:8080/",
          "height": 38
        },
        "id": "NT9OxoqgwUuS",
        "outputId": "aa0c69af-7c9e-4631-c410-012be8a25742"
      },
      "source": [
        "s =  dsolve(de,v(t), ics={v(0):100})\n",
        "s\n",
        "\n"
      ],
      "execution_count": 68,
      "outputs": [
        {
          "output_type": "execute_result",
          "data": {
            "text/latex": "$\\displaystyle v{\\left(t \\right)} = -160.0 + 260.0 e^{- 0.01 t}$",
            "text/plain": [
              "Eq(v(t), -160.0 + 260.0*exp(-0.01*t))"
            ]
          },
          "metadata": {},
          "execution_count": 68
        }
      ]
    },
    {
      "cell_type": "code",
      "metadata": {
        "colab": {
          "base_uri": "https://localhost:8080/",
          "height": 54
        },
        "id": "l-8dTrSIvWLD",
        "outputId": "92981ca0-f925-42f6-9de5-fabfa2e72cfb"
      },
      "source": [
        "dh = Eq(m*diff(h(t),t,t),-m*g-k*v(t))\n",
        "dh"
      ],
      "execution_count": 54,
      "outputs": [
        {
          "output_type": "execute_result",
          "data": {
            "text/latex": "$\\displaystyle \\frac{d^{2}}{d t^{2}} h{\\left(t \\right)} = - 0.01 v{\\left(t \\right)} - 1.6$",
            "text/plain": [
              "Eq(Derivative(h(t), (t, 2)), -0.01*v(t) - 1.6)"
            ]
          },
          "metadata": {},
          "execution_count": 54
        }
      ]
    },
    {
      "cell_type": "code",
      "metadata": {
        "colab": {
          "base_uri": "https://localhost:8080/",
          "height": 55
        },
        "id": "wHeW8dj1yO0C",
        "outputId": "db526234-5e65-4ffd-8be1-31e0e4123c7a"
      },
      "source": [
        "s1 =  dsolve(dh,h(t), ics = ())\n",
        "s1"
      ],
      "execution_count": 55,
      "outputs": [
        {
          "output_type": "execute_result",
          "data": {
            "text/latex": "$\\displaystyle h{\\left(t \\right)} = C_{1} + C_{2} t - \\frac{\\int \\left(160 t + \\int v{\\left(t \\right)}\\, dt\\right)\\, dt}{100}$",
            "text/plain": [
              "Eq(h(t), C1 + C2*t - Integral(160*t + Integral(v(t), t), t)/100)"
            ]
          },
          "metadata": {},
          "execution_count": 55
        }
      ]
    },
    {
      "cell_type": "code",
      "metadata": {
        "colab": {
          "base_uri": "https://localhost:8080/",
          "height": 297
        },
        "id": "zVdjdBrPvorJ",
        "outputId": "b6ec5e1b-eba2-4994-d1fc-23b78390f36e"
      },
      "source": [
        "pt = plot(s.rhs, (t, 0,80))"
      ],
      "execution_count": 69,
      "outputs": [
        {
          "output_type": "display_data",
          "data": {
            "image/png": "[encoded data removed]",
            "text/plain": [
              "<Figure size 432x288 with 1 Axes>"
            ]
          },
          "metadata": {
            "needs_background": "light"
          }
        }
      ]
    }
  ]
}