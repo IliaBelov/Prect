{
  "nbformat": 4,
  "nbformat_minor": 0,
  "metadata": {
    "colab": {
      "name": "Untitled23.ipynb",
      "provenance": [],
      "authorship_tag": "ABX9TyN60OJcGu/e5AtU0U2AOaPQ",
      "include_colab_link": true
    },
    "kernelspec": {
      "name": "python3",
      "display_name": "Python 3"
    },
    "language_info": {
      "name": "python"
    }
  },
  "cells": [
    {
      "cell_type": "markdown",
      "metadata": {
        "id": "view-in-github",
        "colab_type": "text"
      },
      "source": [
        "<a href=\"https://colab.research.google.com/github/IliaBelov/Prect/blob/main/Untitled24.ipynb\" target=\"_parent\"><img src=\"https://colab.research.google.com/assets/colab-badge.svg\" alt=\"Open In Colab\"/></a>"
      ]
    },
    {
      "cell_type": "code",
      "metadata": {
        "id": "_ah-e_kKsyn9"
      },
      "source": [
        "from sympy import *\n",
        "t= symbols(\"t\")\n",
        "x= Function(\"x\")\n",
        "y= Function(\"y\")"
      ],
      "execution_count": 1,
      "outputs": []
    },
    {
      "cell_type": "code",
      "metadata": {
        "colab": {
          "base_uri": "https://localhost:8080/"
        },
        "id": "zN1ZxtYm03-o",
        "outputId": "9833b3c3-2ac6-49dc-fbbc-12b3fa04b680"
      },
      "source": [
        "de=[Eq(diff(x(t),t), -0.5*x(t)), Eq(diff(y(t),t), 0.5*x(t))]\n"
      ],
      "execution_count": 8,
      "outputs": [
        {
          "output_type": "execute_result",
          "data": {
            "text/plain": [
              "[Eq(Derivative(x(t), t), -0.5*x(t)), Eq(Derivative(y(t), t), 0.5*x(t))]"
            ]
          },
          "metadata": {},
          "execution_count": 8
        }
      ]
    },
    {
      "cell_type": "code",
      "metadata": {
        "colab": {
          "base_uri": "https://localhost:8080/",
          "height": 60
        },
        "id": "M800D5yO1fqr",
        "outputId": "017951a3-fe27-4a94-b04e-d8418654649b"
      },
      "source": [
        "(d1,d2) = dsolve(de, ics = {x(0):2, y(0):0})\n",
        "display(d1,d2)"
      ],
      "execution_count": 9,
      "outputs": [
        {
          "output_type": "display_data",
          "data": {
            "text/latex": "$\\displaystyle x{\\left(t \\right)} = 2.0 e^{- 0.5 t}$",
            "text/plain": [
              "Eq(x(t), 2.0*exp(-0.5*t))"
            ]
          },
          "metadata": {}
        },
        {
          "output_type": "display_data",
          "data": {
            "text/latex": "$\\displaystyle y{\\left(t \\right)} = 2.0 - 2.0 e^{- 0.5 t}$",
            "text/plain": [
              "Eq(y(t), 2.0 - 2.0*exp(-0.5*t))"
            ]
          },
          "metadata": {}
        }
      ]
    },
    {
      "cell_type": "code",
      "metadata": {
        "colab": {
          "base_uri": "https://localhost:8080/",
          "height": 296
        },
        "id": "hKDQ21Dn13uC",
        "outputId": "a622e836-bbf5-47fb-906c-4f807ceab610"
      },
      "source": [
        "pt = plot(d1.rhs,(t,0,20), show = False)\n",
        "p1 = plot(d1.rhs,(t,0,20), show = False, line_color='red')\n",
        "pt.extend(p1)\n",
        "pt.show()"
      ],
      "execution_count": 10,
      "outputs": [
        {
          "output_type": "display_data",
          "data": {
            "image/png": "[encoded data removed]",
            "text/plain": [
              "<Figure size 432x288 with 1 Axes>"
            ]
          },
          "metadata": {
            "needs_background": "light"
          }
        }
      ]
    },
    {
      "cell_type": "code",
      "metadata": {
        "id": "k_BMml1B2Tvk"
      },
      "source": [
        ""
      ],
      "execution_count": null,
      "outputs": []
    },
    {
      "cell_type": "code",
      "metadata": {
        "id": "AKNdvm_G2TpD"
      },
      "source": [
        ""
      ],
      "execution_count": null,
      "outputs": []
    }
  ]
}