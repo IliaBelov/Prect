{
  "nbformat": 4,
  "nbformat_minor": 0,
  "metadata": {
    "colab": {
      "name": "Untitled8.ipynb",
      "provenance": [],
      "authorship_tag": "ABX9TyPPxOb2UrwO9OUceww6k1Uq",
      "include_colab_link": true
    },
    "kernelspec": {
      "name": "python3",
      "display_name": "Python 3"
    },
    "language_info": {
      "name": "python"
    }
  },
  "cells": [
    {
      "cell_type": "markdown",
      "metadata": {
        "id": "view-in-github",
        "colab_type": "text"
      },
      "source": [
        "<a href=\"https://colab.research.google.com/github/IliaBelov/Prect/blob/main/Untitled8.ipynb\" target=\"_parent\"><img src=\"https://colab.research.google.com/assets/colab-badge.svg\" alt=\"Open In Colab\"/></a>"
      ]
    },
    {
      "cell_type": "code",
      "metadata": {
        "id": "i-hu1QFxTSLW"
      },
      "source": [
        "from sympy import *"
      ],
      "execution_count": 1,
      "outputs": []
    },
    {
      "cell_type": "code",
      "metadata": {
        "id": "Z7DZN4LvTXKe"
      },
      "source": [
        "x, k, t, x0,x1,t1 = symbols(\"x k t x0 x1 t1\")"
      ],
      "execution_count": 2,
      "outputs": []
    },
    {
      "cell_type": "code",
      "metadata": {
        "id": "GYXhw32JTY21"
      },
      "source": [
        "x = 2*x0   # в 2 раза"
      ],
      "execution_count": 4,
      "outputs": []
    },
    {
      "cell_type": "code",
      "metadata": {
        "colab": {
          "base_uri": "https://localhost:8080/",
          "height": 38
        },
        "id": "6liDONUyT9OG",
        "outputId": "8ba65f30-810c-4b1a-d452-7e37d8b1e2d0"
      },
      "source": [
        "eq = Eq(x,x0*exp(k*t))\n",
        "eq"
      ],
      "execution_count": 5,
      "outputs": [
        {
          "output_type": "execute_result",
          "data": {
            "text/latex": "$\\displaystyle 2 x_{0} = x_{0} e^{k t}$",
            "text/plain": [
              "Eq(2*x0, x0*exp(k*t))"
            ]
          },
          "metadata": {},
          "execution_count": 5
        }
      ]
    },
    {
      "cell_type": "code",
      "metadata": {
        "colab": {
          "base_uri": "https://localhost:8080/",
          "height": 53
        },
        "id": "_sxEHum7UGVR",
        "outputId": "f17606f4-1d21-4f23-b48f-bbabf924a0c7"
      },
      "source": [
        "sol1 = solve(eq,k)[0]\n",
        "sol1"
      ],
      "execution_count": 6,
      "outputs": [
        {
          "output_type": "execute_result",
          "data": {
            "text/latex": "$\\displaystyle \\frac{\\log{\\left(2 \\right)}}{t}$",
            "text/plain": [
              "log(2)/t"
            ]
          },
          "metadata": {},
          "execution_count": 6
        }
      ]
    },
    {
      "cell_type": "code",
      "metadata": {
        "colab": {
          "base_uri": "https://localhost:8080/",
          "height": 53
        },
        "id": "ILvseeLYUOKr",
        "outputId": "5ff4053f-67d0-4995-e4fd-26a538d7bf92"
      },
      "source": [
        "res = sol1.subs(t,30)  #за 30 дней\n",
        "res\n"
      ],
      "execution_count": 8,
      "outputs": [
        {
          "output_type": "execute_result",
          "data": {
            "text/latex": "$\\displaystyle \\frac{\\log{\\left(2 \\right)}}{30}$",
            "text/plain": [
              "log(2)/30"
            ]
          },
          "metadata": {},
          "execution_count": 8
        }
      ]
    },
    {
      "cell_type": "code",
      "metadata": {
        "colab": {
          "base_uri": "https://localhost:8080/",
          "height": 37
        },
        "id": "babCSChuVz_L",
        "outputId": "5105032f-20c5-4531-a216-51bea6bc1e3d"
      },
      "source": [
        "kres = res.evalf()\n",
        "kres"
      ],
      "execution_count": 9,
      "outputs": [
        {
          "output_type": "execute_result",
          "data": {
            "text/latex": "$\\displaystyle 0.0231049060186648$",
            "text/plain": [
              "0.0231049060186648"
            ]
          },
          "metadata": {},
          "execution_count": 9
        }
      ]
    },
    {
      "cell_type": "code",
      "metadata": {
        "colab": {
          "base_uri": "https://localhost:8080/",
          "height": 38
        },
        "id": "pyvJXIWlUwue",
        "outputId": "b176bd5d-a3a7-4ff9-caa9-10e9e68956e1"
      },
      "source": [
        "# узнать за сколько дней популяция увеличится в 3 раза\n",
        "\n",
        "x1 = 3*x0\n",
        "eq2=Eq(x1,x0*exp(k*t1))\n",
        "eq2"
      ],
      "execution_count": 15,
      "outputs": [
        {
          "output_type": "execute_result",
          "data": {
            "text/latex": "$\\displaystyle 3 x_{0} = x_{0} e^{k t_{1}}$",
            "text/plain": [
              "Eq(3*x0, x0*exp(k*t1))"
            ]
          },
          "metadata": {},
          "execution_count": 15
        }
      ]
    },
    {
      "cell_type": "code",
      "metadata": {
        "colab": {
          "base_uri": "https://localhost:8080/",
          "height": 37
        },
        "id": "3V14RwQXVCQy",
        "outputId": "edb9238f-c5d5-4d58-f591-55bd4c2aec7e"
      },
      "source": [
        "sol2 = solve(eq2,t1)[0].subs(k,kres)\n",
        "sol2.evalf()"
      ],
      "execution_count": 16,
      "outputs": [
        {
          "output_type": "execute_result",
          "data": {
            "text/latex": "$\\displaystyle 47.5488750216347$",
            "text/plain": [
              "47.5488750216347"
            ]
          },
          "metadata": {},
          "execution_count": 16
        }
      ]
    },
    {
      "cell_type": "code",
      "metadata": {
        "id": "XZa5NgyJVCN6"
      },
      "source": [
        ""
      ],
      "execution_count": null,
      "outputs": []
    }
  ]
}