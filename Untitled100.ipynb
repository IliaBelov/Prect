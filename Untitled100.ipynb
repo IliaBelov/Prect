{
  "nbformat": 4,
  "nbformat_minor": 0,
  "metadata": {
    "colab": {
      "name": "Untitled15.ipynb",
      "provenance": [],
      "authorship_tag": "ABX9TyPPtkFEAxxZE4pOhn3ET1MZ",
      "include_colab_link": true
    },
    "kernelspec": {
      "name": "python3",
      "display_name": "Python 3"
    },
    "language_info": {
      "name": "python"
    }
  },
  "cells": [
    {
      "cell_type": "markdown",
      "metadata": {
        "id": "view-in-github",
        "colab_type": "text"
      },
      "source": [
        "<a href=\"https://colab.research.google.com/github/IliaBelov/Prect/blob/main/Untitled100.ipynb\" target=\"_parent\"><img src=\"https://colab.research.google.com/assets/colab-badge.svg\" alt=\"Open In Colab\"/></a>"
      ]
    },
    {
      "cell_type": "code",
      "metadata": {
        "id": "N7sZvxmxljp6"
      },
      "source": [
        "from sympy import*\n",
        "t = symbols(\"t\")\n",
        "x = Function(\"x\")\n",
        "m = 1\n",
        "k = 0.01"
      ],
      "execution_count": 3,
      "outputs": []
    },
    {
      "cell_type": "code",
      "metadata": {
        "colab": {
          "base_uri": "https://localhost:8080/",
          "height": 54
        },
        "id": "-QoYCfB8ndpb",
        "outputId": "e2296a56-0f53-4e25-e342-3682d4798ff0"
      },
      "source": [
        "de = Eq(m*diff(x(t),t,t),-k*x(t))\n",
        "de"
      ],
      "execution_count": 4,
      "outputs": [
        {
          "output_type": "execute_result",
          "data": {
            "text/latex": "$\\displaystyle \\frac{d^{2}}{d t^{2}} x{\\left(t \\right)} = - 0.01 x{\\left(t \\right)}$",
            "text/plain": [
              "Eq(Derivative(x(t), (t, 2)), -0.01*x(t))"
            ]
          },
          "metadata": {},
          "execution_count": 4
        }
      ]
    },
    {
      "cell_type": "code",
      "metadata": {
        "colab": {
          "base_uri": "https://localhost:8080/",
          "height": 38
        },
        "id": "70fCV74SndhR",
        "outputId": "a58f0ba2-a386-457f-ae22-d63e5461b65d"
      },
      "source": [
        "s =  dsolve(de,x(t), ics={x(0):0.5, diff(x(t),t).subs(t,0):0})\n",
        "s"
      ],
      "execution_count": 8,
      "outputs": [
        {
          "output_type": "execute_result",
          "data": {
            "text/latex": "$\\displaystyle x{\\left(t \\right)} = 0.5 \\cos{\\left(0.1 t \\right)}$",
            "text/plain": [
              "Eq(x(t), 0.5*cos(0.1*t))"
            ]
          },
          "metadata": {},
          "execution_count": 8
        }
      ]
    },
    {
      "cell_type": "code",
      "metadata": {
        "colab": {
          "base_uri": "https://localhost:8080/",
          "height": 297
        },
        "id": "nqHjOcK8nztb",
        "outputId": "383ab52b-ad79-4058-bd22-3b234034218a"
      },
      "source": [
        "pt = plot(exp(-0.015*t)*s.rhs, (t, 0,100))"
      ],
      "execution_count": 11,
      "outputs": [
        {
          "output_type": "display_data",
          "data": {
            "image/png": "[encoded data removed]",
            "text/plain": [
              "<Figure size 432x288 with 1 Axes>"
            ]
          },
          "metadata": {
            "needs_background": "light"
          }
        }
      ]
    },
    {
      "cell_type": "code",
      "metadata": {
        "id": "jGeI74HEpBQS"
      },
      "source": [
        ""
      ],
      "execution_count": null,
      "outputs": []
    }
  ]
}